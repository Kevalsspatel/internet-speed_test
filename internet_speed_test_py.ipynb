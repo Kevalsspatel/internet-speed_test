{
  "nbformat": 4,
  "nbformat_minor": 0,
  "metadata": {
    "colab": {
      "name": "internet speed test.py",
      "provenance": [],
      "collapsed_sections": [],
      "authorship_tag": "ABX9TyPP+L+30Y0E6OuUmpe4uNMk",
      "include_colab_link": true
    },
    "kernelspec": {
      "name": "python3",
      "display_name": "Python 3"
    }
  },
  "cells": [
    {
      "cell_type": "markdown",
      "metadata": {
        "id": "view-in-github",
        "colab_type": "text"
      },
      "source": [
        "<a href=\"https://colab.research.google.com/github/Kevalsspatel/internet-speed_test/blob/master/internet_speed_test_py.ipynb\" target=\"_parent\"><img src=\"https://colab.research.google.com/assets/colab-badge.svg\" alt=\"Open In Colab\"/></a>"
      ]
    },
    {
      "cell_type": "code",
      "metadata": {
        "id": "XB57BL-ReGpI",
        "colab_type": "code",
        "colab": {
          "base_uri": "https://localhost:8080/",
          "height": 105
        },
        "outputId": "d7a6f8ef-13d5-40f6-9612-564ec82e23e1"
      },
      "source": [
        "pip install speedtest-cli"
      ],
      "execution_count": 20,
      "outputs": [
        {
          "output_type": "stream",
          "text": [
            "Collecting speedtest-cli\n",
            "  Downloading https://files.pythonhosted.org/packages/c4/44/dfebd38c5fb35aae0a7279e2a3ffe33ca65edb449a586b93addc8d409a71/speedtest_cli-2.1.2-py2.py3-none-any.whl\n",
            "Installing collected packages: speedtest-cli\n",
            "Successfully installed speedtest-cli-2.1.2\n"
          ],
          "name": "stdout"
        }
      ]
    },
    {
      "cell_type": "code",
      "metadata": {
        "id": "Ta1MRqumeN4a",
        "colab_type": "code",
        "colab": {}
      },
      "source": [
        "from speedtest import Speedtest"
      ],
      "execution_count": 21,
      "outputs": []
    },
    {
      "cell_type": "code",
      "metadata": {
        "id": "QZNXBKJweW8l",
        "colab_type": "code",
        "colab": {}
      },
      "source": [
        "st=Speedtest()"
      ],
      "execution_count": 22,
      "outputs": []
    },
    {
      "cell_type": "code",
      "metadata": {
        "id": "WGDzPMg7ebjj",
        "colab_type": "code",
        "colab": {
          "base_uri": "https://localhost:8080/",
          "height": 51
        },
        "outputId": "080200ae-8d19-4203-e2da-16f8117c09e1"
      },
      "source": [
        "print('your connection\"s download speed is ',st.download())\n",
        "print('your connection\"s upload speed is ',st.upload())"
      ],
      "execution_count": 23,
      "outputs": [
        {
          "output_type": "stream",
          "text": [
            "your connection\"s download speed is  612641085.4369067\n",
            "your connection\"s upload speed is  363275300.742927\n"
          ],
          "name": "stdout"
        }
      ]
    }
  ]
}