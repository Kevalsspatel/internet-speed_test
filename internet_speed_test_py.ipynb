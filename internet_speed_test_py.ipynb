{
  "nbformat": 4,
  "nbformat_minor": 0,
  "metadata": {
    "colab": {
      "name": "internet speed test.py",
      "provenance": [],
      "collapsed_sections": [],
      "authorship_tag": "ABX9TyPP+L+30Y0E6OuUmpe4uNMk",
      "include_colab_link": true
    },
    "kernelspec": {
      "name": "python3",
      "display_name": "Python 3"
    }
  },
  "cells": [
    {
      "cell_type": "markdown",
      "metadata": {
        "id": "view-in-github",
        "colab_type": "text"
      },
      "source": [
        "<a href=\"https://colab.research.google.com/github/Kevalsspatel/internet-speed_test/blob/master/internet_speed_test_py.ipynb\" target=\"_parent\"><img src=\"https://colab.research.google.com/assets/colab-badge.svg\" alt=\"Open In Colab\"/></a>"
      ]
    },
    {
      "cell_type": "code",
      "metadata": {
        "id": "XB57BL-ReGpI",
        "colab_type": "code",
        "colab": {}
      },
      "source": [
        "pip install speedtest-cli"
      ],
      "execution_count": null,
      "outputs": []
    },
    {
      "cell_type": "code",
      "metadata": {
        "id": "Ta1MRqumeN4a",
        "colab_type": "code",
        "colab": {}
      },
      "source": [
        "from speedtest import Speedtest"
      ],
      "execution_count": 21,
      "outputs": []
    },
    {
      "cell_type": "code",
      "metadata": {
        "id": "QZNXBKJweW8l",
        "colab_type": "code",
        "colab": {}
      },
      "source": [
        "st=Speedtest()"
      ],
      "execution_count": 22,
      "outputs": []
    },
    {
      "cell_type": "code",
      "metadata": {
        "id": "WGDzPMg7ebjj",
        "colab_type": "code",
        "colab": {}
      },
      "source": [
        "print('your connection\"s download speed is ',st.download())\n",
        "print('your connection\"s upload speed is ',st.upload())"
      ],
      "execution_count": null,
      "outputs": []
    }
  ]
}